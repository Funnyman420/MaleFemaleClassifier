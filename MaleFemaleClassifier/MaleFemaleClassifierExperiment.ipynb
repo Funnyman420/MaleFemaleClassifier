{
 "cells": [
  {
   "cell_type": "code",
   "execution_count": 44,
   "metadata": {},
   "outputs": [],
   "source": [
    "import numpy as np\n",
    "import pandas as pd\n",
    "from scipy import stats"
   ]
  },
  {
   "cell_type": "code",
   "execution_count": 2,
   "metadata": {},
   "outputs": [],
   "source": [
    "data = pd.read_csv(\"Greek_Names.csv\")"
   ]
  },
  {
   "cell_type": "code",
   "execution_count": 3,
   "metadata": {},
   "outputs": [],
   "source": [
    "del data['isFemale']"
   ]
  },
  {
   "cell_type": "code",
   "execution_count": 4,
   "metadata": {},
   "outputs": [],
   "source": [
    "start = 2\n",
    "end = 5"
   ]
  },
  {
   "cell_type": "code",
   "execution_count": 5,
   "metadata": {},
   "outputs": [],
   "source": [
    "for n in range(start,end):\n",
    "    data['Column ' + str(n)] = data['Names'].astype(str).str[-n:]"
   ]
  },
  {
   "cell_type": "code",
   "execution_count": 6,
   "metadata": {},
   "outputs": [],
   "source": [
    "data = pd.DataFrame(data.Names.str.split('-').tolist(), index = data.isMale).stack()\n",
    "data = data.reset_index()[[0,'isMale']]\n",
    "data.columns = ['Names', 'isMale']"
   ]
  },
  {
   "cell_type": "code",
   "execution_count": 7,
   "metadata": {},
   "outputs": [],
   "source": [
    "data = data.drop(data[data.Names.map(len)<2].index)"
   ]
  },
  {
   "cell_type": "code",
   "execution_count": 8,
   "metadata": {},
   "outputs": [],
   "source": [
    "duplicated = data[data.duplicated('Names', 'first')].sort_values(by='Names').reset_index(drop=True)"
   ]
  },
  {
   "cell_type": "code",
   "execution_count": 9,
   "metadata": {},
   "outputs": [],
   "source": [
    "duplicated = pd.concat(g for _, g in duplicated.groupby('isMale') if len(g)>1)"
   ]
  },
  {
   "cell_type": "code",
   "execution_count": 10,
   "metadata": {},
   "outputs": [],
   "source": [
    "duplicated = duplicated.sort_values(by='Names')"
   ]
  },
  {
   "cell_type": "code",
   "execution_count": 22,
   "metadata": {},
   "outputs": [
    {
     "data": {
      "text/plain": [
       "['ΑΒΡΑΑΜ', 0]"
      ]
     },
     "execution_count": 22,
     "metadata": {},
     "output_type": "execute_result"
    }
   ],
   "source": [
    "df = duplicated.values.tolist()\n",
    "df[1]"
   ]
  },
  {
   "cell_type": "code",
   "execution_count": 38,
   "metadata": {},
   "outputs": [
    {
     "data": {
      "text/plain": [
       "array([], dtype=float64)"
      ]
     },
     "execution_count": 38,
     "metadata": {},
     "output_type": "execute_result"
    }
   ],
   "source": [
    "temp = np.array([])\n",
    "temp"
   ]
  },
  {
   "cell_type": "code",
   "execution_count": 46,
   "metadata": {},
   "outputs": [
    {
     "name": "stdout",
     "output_type": "stream",
     "text": [
      "ModeResult(mode=array(['1'], dtype='<U32'), count=array([3]))\n",
      "ModeResult(mode=array(['ΑΒΡΑΑΜ'], dtype='<U32'), count=array([2]))\n",
      "ModeResult(mode=array(['0'], dtype='<U32'), count=array([2]))\n",
      "ModeResult(mode=array(['0'], dtype='<U32'), count=array([4]))\n",
      "ModeResult(mode=array(['1'], dtype='<U32'), count=array([1]))\n"
     ]
    }
   ],
   "source": [
    "final = duplicated[0:0]\n",
    "\n",
    "for i in range(10):\n",
    "        if df[i][0] == df[i+1][0]:\n",
    "            temp = np.append(temp,df[i],axis=0)\n",
    "        else:\n",
    "            temp = np.append(temp,df[i],axis=0)\n",
    "            voted = stats.mode(temp)\n",
    "            print(voted)\n",
    "            temp = np.array([])"
   ]
  },
  {
   "cell_type": "code",
   "execution_count": null,
   "metadata": {},
   "outputs": [],
   "source": [
    "final.isMale = final.isMale.astype(int)"
   ]
  },
  {
   "cell_type": "code",
   "execution_count": null,
   "metadata": {},
   "outputs": [],
   "source": [
    "final"
   ]
  }
 ],
 "metadata": {
  "kernelspec": {
   "display_name": "Python 3",
   "language": "python",
   "name": "python3"
  },
  "language_info": {
   "codemirror_mode": {
    "name": "ipython",
    "version": 3
   },
   "file_extension": ".py",
   "mimetype": "text/x-python",
   "name": "python",
   "nbconvert_exporter": "python",
   "pygments_lexer": "ipython3",
   "version": "3.6.6"
  }
 },
 "nbformat": 4,
 "nbformat_minor": 2
}
